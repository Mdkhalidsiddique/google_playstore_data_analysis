{
 "cells": [
  {
   "cell_type": "code",
   "execution_count": null,
   "metadata": {
    "_cell_guid": "b1076dfc-b9ad-4769-8c92-a6c4dae69d19",
    "_uuid": "8f2839f25d086af736a60e9eeb907d3b93b6e0e5"
   },
   "outputs": [],
   "source": [
    "import numpy as np # linear algebra\n",
    "import pandas as pd # data processing, CSV file I/O (e.g. pd.read_csv)\n",
    "\n",
    "print(os.listdir(\"../input\"))\n"
   ]
  },
  {
   "cell_type": "code",
   "execution_count": null,
   "metadata": {
    "_uuid": "48d773928684542dc227af6936ba1d4d49a6e297"
   },
   "outputs": [],
   "source": [
    "# import packages\n",
    "import seaborn as sns\n",
    "import matplotlib.pyplot as plt"
   ]
  },
  {
   "cell_type": "code",
   "execution_count": 5,
   "metadata": {
    "_cell_guid": "79c7e3d0-c299-4dcb-8224-4455121ee9b0",
    "_uuid": "d629ff2d2480ee46fbb7e2d37f6b5fab8052498a"
   },
   "outputs": [],
   "source": [
    "user_reviews = pd.read_csv(\"playstore.csv\")\n",
    "playstore_data = pd.read_csv(\"playstore.csv\")"
   ]
  },
  {
   "cell_type": "code",
   "execution_count": 6,
   "metadata": {
    "_uuid": "85013202a7d96d85116a208a80a5426218c82db9"
   },
   "outputs": [
    {
     "data": {
      "text/html": [
       "<div>\n",
       "<style scoped>\n",
       "    .dataframe tbody tr th:only-of-type {\n",
       "        vertical-align: middle;\n",
       "    }\n",
       "\n",
       "    .dataframe tbody tr th {\n",
       "        vertical-align: top;\n",
       "    }\n",
       "\n",
       "    .dataframe thead th {\n",
       "        text-align: right;\n",
       "    }\n",
       "</style>\n",
       "<table border=\"1\" class=\"dataframe\">\n",
       "  <thead>\n",
       "    <tr style=\"text-align: right;\">\n",
       "      <th></th>\n",
       "      <th>App</th>\n",
       "      <th>Category</th>\n",
       "      <th>Rating</th>\n",
       "      <th>Reviews</th>\n",
       "      <th>Size</th>\n",
       "      <th>Installs</th>\n",
       "      <th>Type</th>\n",
       "      <th>Price</th>\n",
       "      <th>Content Rating</th>\n",
       "      <th>Genres</th>\n",
       "      <th>Last Updated</th>\n",
       "      <th>Current Ver</th>\n",
       "      <th>Android Ver</th>\n",
       "    </tr>\n",
       "  </thead>\n",
       "  <tbody>\n",
       "    <tr>\n",
       "      <th>0</th>\n",
       "      <td>Photo Editor &amp; Candy Camera &amp; Grid &amp; ScrapBook</td>\n",
       "      <td>ART_AND_DESIGN</td>\n",
       "      <td>4.1</td>\n",
       "      <td>159</td>\n",
       "      <td>19000.0</td>\n",
       "      <td>10,000+</td>\n",
       "      <td>Free</td>\n",
       "      <td>0</td>\n",
       "      <td>Everyone</td>\n",
       "      <td>Art &amp; Design</td>\n",
       "      <td>January 7, 2018</td>\n",
       "      <td>1.0.0</td>\n",
       "      <td>4.0.3 and up</td>\n",
       "    </tr>\n",
       "    <tr>\n",
       "      <th>1</th>\n",
       "      <td>Coloring book moana</td>\n",
       "      <td>ART_AND_DESIGN</td>\n",
       "      <td>3.9</td>\n",
       "      <td>967</td>\n",
       "      <td>14000.0</td>\n",
       "      <td>500,000+</td>\n",
       "      <td>Free</td>\n",
       "      <td>0</td>\n",
       "      <td>Everyone</td>\n",
       "      <td>Art &amp; Design;Pretend Play</td>\n",
       "      <td>January 15, 2018</td>\n",
       "      <td>2.0.0</td>\n",
       "      <td>4.0.3 and up</td>\n",
       "    </tr>\n",
       "    <tr>\n",
       "      <th>2</th>\n",
       "      <td>U Launcher Lite – FREE Live Cool Themes, Hide ...</td>\n",
       "      <td>ART_AND_DESIGN</td>\n",
       "      <td>4.7</td>\n",
       "      <td>87510</td>\n",
       "      <td>8700.0</td>\n",
       "      <td>5,000,000+</td>\n",
       "      <td>Free</td>\n",
       "      <td>0</td>\n",
       "      <td>Everyone</td>\n",
       "      <td>Art &amp; Design</td>\n",
       "      <td>August 1, 2018</td>\n",
       "      <td>1.2.4</td>\n",
       "      <td>4.0.3 and up</td>\n",
       "    </tr>\n",
       "    <tr>\n",
       "      <th>3</th>\n",
       "      <td>Sketch - Draw &amp; Paint</td>\n",
       "      <td>ART_AND_DESIGN</td>\n",
       "      <td>4.5</td>\n",
       "      <td>215644</td>\n",
       "      <td>25000.0</td>\n",
       "      <td>50,000,000+</td>\n",
       "      <td>Free</td>\n",
       "      <td>0</td>\n",
       "      <td>Teen</td>\n",
       "      <td>Art &amp; Design</td>\n",
       "      <td>June 8, 2018</td>\n",
       "      <td>Varies with device</td>\n",
       "      <td>4.2 and up</td>\n",
       "    </tr>\n",
       "    <tr>\n",
       "      <th>4</th>\n",
       "      <td>Pixel Draw - Number Art Coloring Book</td>\n",
       "      <td>ART_AND_DESIGN</td>\n",
       "      <td>4.3</td>\n",
       "      <td>967</td>\n",
       "      <td>2800.0</td>\n",
       "      <td>100,000+</td>\n",
       "      <td>Free</td>\n",
       "      <td>0</td>\n",
       "      <td>Everyone</td>\n",
       "      <td>Art &amp; Design;Creativity</td>\n",
       "      <td>June 20, 2018</td>\n",
       "      <td>1.1</td>\n",
       "      <td>4.4 and up</td>\n",
       "    </tr>\n",
       "  </tbody>\n",
       "</table>\n",
       "</div>"
      ],
      "text/plain": [
       "                                                 App        Category  Rating  \\\n",
       "0     Photo Editor & Candy Camera & Grid & ScrapBook  ART_AND_DESIGN     4.1   \n",
       "1                                Coloring book moana  ART_AND_DESIGN     3.9   \n",
       "2  U Launcher Lite – FREE Live Cool Themes, Hide ...  ART_AND_DESIGN     4.7   \n",
       "3                              Sketch - Draw & Paint  ART_AND_DESIGN     4.5   \n",
       "4              Pixel Draw - Number Art Coloring Book  ART_AND_DESIGN     4.3   \n",
       "\n",
       "  Reviews     Size     Installs  Type Price Content Rating  \\\n",
       "0     159  19000.0      10,000+  Free     0       Everyone   \n",
       "1     967  14000.0     500,000+  Free     0       Everyone   \n",
       "2   87510   8700.0   5,000,000+  Free     0       Everyone   \n",
       "3  215644  25000.0  50,000,000+  Free     0           Teen   \n",
       "4     967   2800.0     100,000+  Free     0       Everyone   \n",
       "\n",
       "                      Genres      Last Updated         Current Ver  \\\n",
       "0               Art & Design   January 7, 2018               1.0.0   \n",
       "1  Art & Design;Pretend Play  January 15, 2018               2.0.0   \n",
       "2               Art & Design    August 1, 2018               1.2.4   \n",
       "3               Art & Design      June 8, 2018  Varies with device   \n",
       "4    Art & Design;Creativity     June 20, 2018                 1.1   \n",
       "\n",
       "    Android Ver  \n",
       "0  4.0.3 and up  \n",
       "1  4.0.3 and up  \n",
       "2  4.0.3 and up  \n",
       "3    4.2 and up  \n",
       "4    4.4 and up  "
      ]
     },
     "execution_count": 6,
     "metadata": {},
     "output_type": "execute_result"
    }
   ],
   "source": [
    "user_reviews.head()\n",
    "\n"
   ]
  },
  {
   "cell_type": "code",
   "execution_count": 7,
   "metadata": {
    "_uuid": "00c041e40b58f9fe9e301e5f4d9250d8d614ff7d"
   },
   "outputs": [
    {
     "data": {
      "text/html": [
       "<div>\n",
       "<style scoped>\n",
       "    .dataframe tbody tr th:only-of-type {\n",
       "        vertical-align: middle;\n",
       "    }\n",
       "\n",
       "    .dataframe tbody tr th {\n",
       "        vertical-align: top;\n",
       "    }\n",
       "\n",
       "    .dataframe thead th {\n",
       "        text-align: right;\n",
       "    }\n",
       "</style>\n",
       "<table border=\"1\" class=\"dataframe\">\n",
       "  <thead>\n",
       "    <tr style=\"text-align: right;\">\n",
       "      <th></th>\n",
       "      <th>App</th>\n",
       "      <th>Category</th>\n",
       "      <th>Rating</th>\n",
       "      <th>Reviews</th>\n",
       "      <th>Size</th>\n",
       "      <th>Installs</th>\n",
       "      <th>Type</th>\n",
       "      <th>Price</th>\n",
       "      <th>Content Rating</th>\n",
       "      <th>Genres</th>\n",
       "      <th>Last Updated</th>\n",
       "      <th>Current Ver</th>\n",
       "      <th>Android Ver</th>\n",
       "    </tr>\n",
       "  </thead>\n",
       "  <tbody>\n",
       "    <tr>\n",
       "      <th>0</th>\n",
       "      <td>Photo Editor &amp; Candy Camera &amp; Grid &amp; ScrapBook</td>\n",
       "      <td>ART_AND_DESIGN</td>\n",
       "      <td>4.1</td>\n",
       "      <td>159</td>\n",
       "      <td>19000.0</td>\n",
       "      <td>10,000+</td>\n",
       "      <td>Free</td>\n",
       "      <td>0</td>\n",
       "      <td>Everyone</td>\n",
       "      <td>Art &amp; Design</td>\n",
       "      <td>January 7, 2018</td>\n",
       "      <td>1.0.0</td>\n",
       "      <td>4.0.3 and up</td>\n",
       "    </tr>\n",
       "    <tr>\n",
       "      <th>1</th>\n",
       "      <td>Coloring book moana</td>\n",
       "      <td>ART_AND_DESIGN</td>\n",
       "      <td>3.9</td>\n",
       "      <td>967</td>\n",
       "      <td>14000.0</td>\n",
       "      <td>500,000+</td>\n",
       "      <td>Free</td>\n",
       "      <td>0</td>\n",
       "      <td>Everyone</td>\n",
       "      <td>Art &amp; Design;Pretend Play</td>\n",
       "      <td>January 15, 2018</td>\n",
       "      <td>2.0.0</td>\n",
       "      <td>4.0.3 and up</td>\n",
       "    </tr>\n",
       "    <tr>\n",
       "      <th>2</th>\n",
       "      <td>U Launcher Lite – FREE Live Cool Themes, Hide ...</td>\n",
       "      <td>ART_AND_DESIGN</td>\n",
       "      <td>4.7</td>\n",
       "      <td>87510</td>\n",
       "      <td>8700.0</td>\n",
       "      <td>5,000,000+</td>\n",
       "      <td>Free</td>\n",
       "      <td>0</td>\n",
       "      <td>Everyone</td>\n",
       "      <td>Art &amp; Design</td>\n",
       "      <td>August 1, 2018</td>\n",
       "      <td>1.2.4</td>\n",
       "      <td>4.0.3 and up</td>\n",
       "    </tr>\n",
       "    <tr>\n",
       "      <th>3</th>\n",
       "      <td>Sketch - Draw &amp; Paint</td>\n",
       "      <td>ART_AND_DESIGN</td>\n",
       "      <td>4.5</td>\n",
       "      <td>215644</td>\n",
       "      <td>25000.0</td>\n",
       "      <td>50,000,000+</td>\n",
       "      <td>Free</td>\n",
       "      <td>0</td>\n",
       "      <td>Teen</td>\n",
       "      <td>Art &amp; Design</td>\n",
       "      <td>June 8, 2018</td>\n",
       "      <td>Varies with device</td>\n",
       "      <td>4.2 and up</td>\n",
       "    </tr>\n",
       "    <tr>\n",
       "      <th>4</th>\n",
       "      <td>Pixel Draw - Number Art Coloring Book</td>\n",
       "      <td>ART_AND_DESIGN</td>\n",
       "      <td>4.3</td>\n",
       "      <td>967</td>\n",
       "      <td>2800.0</td>\n",
       "      <td>100,000+</td>\n",
       "      <td>Free</td>\n",
       "      <td>0</td>\n",
       "      <td>Everyone</td>\n",
       "      <td>Art &amp; Design;Creativity</td>\n",
       "      <td>June 20, 2018</td>\n",
       "      <td>1.1</td>\n",
       "      <td>4.4 and up</td>\n",
       "    </tr>\n",
       "  </tbody>\n",
       "</table>\n",
       "</div>"
      ],
      "text/plain": [
       "                                                 App        Category  Rating  \\\n",
       "0     Photo Editor & Candy Camera & Grid & ScrapBook  ART_AND_DESIGN     4.1   \n",
       "1                                Coloring book moana  ART_AND_DESIGN     3.9   \n",
       "2  U Launcher Lite – FREE Live Cool Themes, Hide ...  ART_AND_DESIGN     4.7   \n",
       "3                              Sketch - Draw & Paint  ART_AND_DESIGN     4.5   \n",
       "4              Pixel Draw - Number Art Coloring Book  ART_AND_DESIGN     4.3   \n",
       "\n",
       "  Reviews     Size     Installs  Type Price Content Rating  \\\n",
       "0     159  19000.0      10,000+  Free     0       Everyone   \n",
       "1     967  14000.0     500,000+  Free     0       Everyone   \n",
       "2   87510   8700.0   5,000,000+  Free     0       Everyone   \n",
       "3  215644  25000.0  50,000,000+  Free     0           Teen   \n",
       "4     967   2800.0     100,000+  Free     0       Everyone   \n",
       "\n",
       "                      Genres      Last Updated         Current Ver  \\\n",
       "0               Art & Design   January 7, 2018               1.0.0   \n",
       "1  Art & Design;Pretend Play  January 15, 2018               2.0.0   \n",
       "2               Art & Design    August 1, 2018               1.2.4   \n",
       "3               Art & Design      June 8, 2018  Varies with device   \n",
       "4    Art & Design;Creativity     June 20, 2018                 1.1   \n",
       "\n",
       "    Android Ver  \n",
       "0  4.0.3 and up  \n",
       "1  4.0.3 and up  \n",
       "2  4.0.3 and up  \n",
       "3    4.2 and up  \n",
       "4    4.4 and up  "
      ]
     },
     "execution_count": 7,
     "metadata": {},
     "output_type": "execute_result"
    }
   ],
   "source": [
    "playstore_data.head()\n"
   ]
  },
  {
   "cell_type": "code",
   "execution_count": 8,
   "metadata": {
    "_uuid": "33c9e9d86d3ae4db814d35a00884ae03c5d0af23"
   },
   "outputs": [
    {
     "name": "stdout",
     "output_type": "stream",
     "text": [
      "Dimentions of user_review (10841, 13)\n",
      "Dimentions of google_playstore (10841, 13)\n",
      "Unique Stores 9660\n"
     ]
    }
   ],
   "source": [
    "print('Dimentions of user_review {}'.format(user_reviews.shape))\n",
    "print('Dimentions of google_playstore {}'.format(playstore_data.shape))\n",
    "print('Unique Stores {}'.format(len(playstore_data['App'].unique())))"
   ]
  },
  {
   "cell_type": "code",
   "execution_count": 7,
   "metadata": {
    "_uuid": "ab7fa69bcfcfe8d53758fd3a5917d8447c6a14e9"
   },
   "outputs": [],
   "source": [
    "# In total there are around 64295 reviews further there are 9660 apps and apps can have almost same names with slight change and different maker"
   ]
  },
  {
   "cell_type": "code",
   "execution_count": null,
   "metadata": {
    "_uuid": "f3afda5ce87824ebbf0cff73ca01ac296a10aa29"
   },
   "outputs": [],
   "source": []
  },
  {
   "cell_type": "code",
   "execution_count": 9,
   "metadata": {
    "_uuid": "c37d2b58b83bd18593a18c7d77096d28f1e98631"
   },
   "outputs": [
    {
     "name": "stdout",
     "output_type": "stream",
     "text": [
      "Missing values in user_reviews App                  0\n",
      "Category             0\n",
      "Rating            1474\n",
      "Reviews              0\n",
      "Size                 0\n",
      "Installs             0\n",
      "Type                 1\n",
      "Price                0\n",
      "Content Rating       1\n",
      "Genres               0\n",
      "Last Updated         0\n",
      "Current Ver          8\n",
      "Android Ver          3\n",
      "dtype: int64\n"
     ]
    }
   ],
   "source": [
    "# Checking for missing values\n",
    "\n",
    "print('Missing values in user_reviews {}'.format(user_reviews.isnull().sum()))"
   ]
  },
  {
   "cell_type": "code",
   "execution_count": 10,
   "metadata": {
    "_uuid": "d796af7c3e437bc6e533f96c0334e4ff30572eaf"
   },
   "outputs": [
    {
     "name": "stdout",
     "output_type": "stream",
     "text": [
      "Missing values in Google_play_store App                  0\n",
      "Category             0\n",
      "Rating            1474\n",
      "Reviews              0\n",
      "Size                 0\n",
      "Installs             0\n",
      "Type                 1\n",
      "Price                0\n",
      "Content Rating       1\n",
      "Genres               0\n",
      "Last Updated         0\n",
      "Current Ver          8\n",
      "Android Ver          3\n",
      "dtype: int64\n"
     ]
    }
   ],
   "source": [
    "print('Missing values in Google_play_store {}'.format(playstore_data.isnull().sum()))"
   ]
  },
  {
   "cell_type": "code",
   "execution_count": 11,
   "metadata": {
    "_uuid": "21adea6869b004fcbb03ad9176f7a80ee0b0eb56"
   },
   "outputs": [],
   "source": [
    "# removing the missing values\n",
    "\n",
    "user_reviews.dropna(inplace=True)"
   ]
  },
  {
   "cell_type": "code",
   "execution_count": 12,
   "metadata": {
    "_uuid": "c0c21f0bffea6aa942d5edad3ed411c6b96d8714"
   },
   "outputs": [],
   "source": [
    "# remove duplicates in play store\n",
    "\n",
    "#playstore_data.drop_duplicates(inplace=True)\n",
    "playstore_data= playstore_data.drop_duplicates(subset='App')"
   ]
  },
  {
   "cell_type": "code",
   "execution_count": 13,
   "metadata": {
    "_uuid": "31cf290d9216a57da05b0bf3d3100427de684f15"
   },
   "outputs": [
    {
     "data": {
      "text/plain": [
       "(9660, 13)"
      ]
     },
     "execution_count": 13,
     "metadata": {},
     "output_type": "execute_result"
    }
   ],
   "source": [
    "playstore_data.shape"
   ]
  },
  {
   "cell_type": "code",
   "execution_count": 14,
   "metadata": {
    "_uuid": "b68cc27f6b6900073c7224988314758bd6db536c"
   },
   "outputs": [
    {
     "name": "stdout",
     "output_type": "stream",
     "text": [
      "Missing values in Google_play_store App                  0\n",
      "Category             0\n",
      "Rating            1463\n",
      "Reviews              0\n",
      "Size                 0\n",
      "Installs             0\n",
      "Type                 1\n",
      "Price                0\n",
      "Content Rating       1\n",
      "Genres               0\n",
      "Last Updated         0\n",
      "Current Ver          8\n",
      "Android Ver          3\n",
      "dtype: int64\n"
     ]
    }
   ],
   "source": [
    "print('Missing values in Google_play_store {}'.format(playstore_data.isnull().sum()))"
   ]
  },
  {
   "cell_type": "code",
   "execution_count": 15,
   "metadata": {
    "_uuid": "82bb8ec5e9dbfd4336da931eee67043ee789952f"
   },
   "outputs": [],
   "source": [
    "playstore_data.dropna(inplace=True,subset=['Type','Content Rating','Current Ver','Android Ver'])"
   ]
  },
  {
   "cell_type": "code",
   "execution_count": 16,
   "metadata": {
    "_uuid": "f0ab7963b55b7f817ff7b95918fda5c1410a3d88"
   },
   "outputs": [
    {
     "data": {
      "text/plain": [
       "(9648, 13)"
      ]
     },
     "execution_count": 16,
     "metadata": {},
     "output_type": "execute_result"
    }
   ],
   "source": [
    "playstore_data.shape"
   ]
  },
  {
   "cell_type": "code",
   "execution_count": 17,
   "metadata": {
    "_uuid": "5d63ff42e9118427ad93fa411cb0237ad2df5bff"
   },
   "outputs": [
    {
     "data": {
      "text/plain": [
       "count    8190.000000\n",
       "mean        4.173321\n",
       "std         0.536691\n",
       "min         1.000000\n",
       "25%         4.000000\n",
       "50%         4.300000\n",
       "75%         4.500000\n",
       "max         5.000000\n",
       "Name: Rating, dtype: float64"
      ]
     },
     "execution_count": 17,
     "metadata": {},
     "output_type": "execute_result"
    }
   ],
   "source": [
    "playstore_data['Rating'].describe()"
   ]
  },
  {
   "cell_type": "code",
   "execution_count": 18,
   "metadata": {
    "_uuid": "603f16dccdf431b595636d298fa5bf812db6a87f"
   },
   "outputs": [],
   "source": [
    "# filling rating in missing areas by not captured (0)\n",
    "\n",
    "playstore_data.fillna(0,inplace=True)"
   ]
  },
  {
   "cell_type": "code",
   "execution_count": 19,
   "metadata": {
    "_uuid": "62d8642a0e4a4897f7f89655220f18bbe350204f"
   },
   "outputs": [
    {
     "data": {
      "text/html": [
       "<div>\n",
       "<style scoped>\n",
       "    .dataframe tbody tr th:only-of-type {\n",
       "        vertical-align: middle;\n",
       "    }\n",
       "\n",
       "    .dataframe tbody tr th {\n",
       "        vertical-align: top;\n",
       "    }\n",
       "\n",
       "    .dataframe thead th {\n",
       "        text-align: right;\n",
       "    }\n",
       "</style>\n",
       "<table border=\"1\" class=\"dataframe\">\n",
       "  <thead>\n",
       "    <tr style=\"text-align: right;\">\n",
       "      <th></th>\n",
       "      <th>App</th>\n",
       "      <th>Category</th>\n",
       "      <th>Rating</th>\n",
       "      <th>Reviews</th>\n",
       "      <th>Size</th>\n",
       "      <th>Installs</th>\n",
       "      <th>Type</th>\n",
       "      <th>Price</th>\n",
       "      <th>Content Rating</th>\n",
       "      <th>Genres</th>\n",
       "      <th>Last Updated</th>\n",
       "      <th>Current Ver</th>\n",
       "      <th>Android Ver</th>\n",
       "    </tr>\n",
       "  </thead>\n",
       "  <tbody>\n",
       "    <tr>\n",
       "      <th>23</th>\n",
       "      <td>Mcqueen Coloring pages</td>\n",
       "      <td>ART_AND_DESIGN</td>\n",
       "      <td>0.0</td>\n",
       "      <td>61</td>\n",
       "      <td>7000.0</td>\n",
       "      <td>100,000+</td>\n",
       "      <td>Free</td>\n",
       "      <td>0</td>\n",
       "      <td>Everyone</td>\n",
       "      <td>Art &amp; Design;Action &amp; Adventure</td>\n",
       "      <td>March 7, 2018</td>\n",
       "      <td>1.0.0</td>\n",
       "      <td>4.1 and up</td>\n",
       "    </tr>\n",
       "    <tr>\n",
       "      <th>113</th>\n",
       "      <td>Wrinkles and rejuvenation</td>\n",
       "      <td>BEAUTY</td>\n",
       "      <td>0.0</td>\n",
       "      <td>182</td>\n",
       "      <td>5700.0</td>\n",
       "      <td>100,000+</td>\n",
       "      <td>Free</td>\n",
       "      <td>0</td>\n",
       "      <td>Everyone 10+</td>\n",
       "      <td>Beauty</td>\n",
       "      <td>September 20, 2017</td>\n",
       "      <td>8</td>\n",
       "      <td>3.0 and up</td>\n",
       "    </tr>\n",
       "    <tr>\n",
       "      <th>123</th>\n",
       "      <td>Manicure - nail design</td>\n",
       "      <td>BEAUTY</td>\n",
       "      <td>0.0</td>\n",
       "      <td>119</td>\n",
       "      <td>3700.0</td>\n",
       "      <td>50,000+</td>\n",
       "      <td>Free</td>\n",
       "      <td>0</td>\n",
       "      <td>Everyone</td>\n",
       "      <td>Beauty</td>\n",
       "      <td>July 23, 2018</td>\n",
       "      <td>1.3</td>\n",
       "      <td>4.1 and up</td>\n",
       "    </tr>\n",
       "    <tr>\n",
       "      <th>126</th>\n",
       "      <td>Skin Care and Natural Beauty</td>\n",
       "      <td>BEAUTY</td>\n",
       "      <td>0.0</td>\n",
       "      <td>654</td>\n",
       "      <td>7400.0</td>\n",
       "      <td>100,000+</td>\n",
       "      <td>Free</td>\n",
       "      <td>0</td>\n",
       "      <td>Teen</td>\n",
       "      <td>Beauty</td>\n",
       "      <td>July 17, 2018</td>\n",
       "      <td>1.15</td>\n",
       "      <td>4.1 and up</td>\n",
       "    </tr>\n",
       "    <tr>\n",
       "      <th>129</th>\n",
       "      <td>Secrets of beauty, youth and health</td>\n",
       "      <td>BEAUTY</td>\n",
       "      <td>0.0</td>\n",
       "      <td>77</td>\n",
       "      <td>2900.0</td>\n",
       "      <td>10,000+</td>\n",
       "      <td>Free</td>\n",
       "      <td>0</td>\n",
       "      <td>Mature 17+</td>\n",
       "      <td>Beauty</td>\n",
       "      <td>August 8, 2017</td>\n",
       "      <td>2</td>\n",
       "      <td>2.3 and up</td>\n",
       "    </tr>\n",
       "  </tbody>\n",
       "</table>\n",
       "</div>"
      ],
      "text/plain": [
       "                                     App        Category  Rating Reviews  \\\n",
       "23                Mcqueen Coloring pages  ART_AND_DESIGN     0.0      61   \n",
       "113            Wrinkles and rejuvenation          BEAUTY     0.0     182   \n",
       "123               Manicure - nail design          BEAUTY     0.0     119   \n",
       "126         Skin Care and Natural Beauty          BEAUTY     0.0     654   \n",
       "129  Secrets of beauty, youth and health          BEAUTY     0.0      77   \n",
       "\n",
       "       Size  Installs  Type Price Content Rating  \\\n",
       "23   7000.0  100,000+  Free     0       Everyone   \n",
       "113  5700.0  100,000+  Free     0   Everyone 10+   \n",
       "123  3700.0   50,000+  Free     0       Everyone   \n",
       "126  7400.0  100,000+  Free     0           Teen   \n",
       "129  2900.0   10,000+  Free     0     Mature 17+   \n",
       "\n",
       "                              Genres        Last Updated Current Ver  \\\n",
       "23   Art & Design;Action & Adventure       March 7, 2018       1.0.0   \n",
       "113                           Beauty  September 20, 2017           8   \n",
       "123                           Beauty       July 23, 2018         1.3   \n",
       "126                           Beauty       July 17, 2018        1.15   \n",
       "129                           Beauty      August 8, 2017           2   \n",
       "\n",
       "    Android Ver  \n",
       "23   4.1 and up  \n",
       "113  3.0 and up  \n",
       "123  4.1 and up  \n",
       "126  4.1 and up  \n",
       "129  2.3 and up  "
      ]
     },
     "execution_count": 19,
     "metadata": {},
     "output_type": "execute_result"
    }
   ],
   "source": [
    "playstore_data[playstore_data['Rating'] == 0].head()"
   ]
  },
  {
   "cell_type": "code",
   "execution_count": 20,
   "metadata": {
    "_uuid": "df3cabf50eb91a43d7bc14dd1544667547379e14"
   },
   "outputs": [
    {
     "name": "stdout",
     "output_type": "stream",
     "text": [
      "Index(['App', 'Translated_Review', 'Sentiment', 'Sentiment_Polarity',\n",
      "       'Sentiment_Subjectivity'],\n",
      "      dtype='object')\n"
     ]
    },
    {
     "data": {
      "text/html": [
       "<div>\n",
       "<style scoped>\n",
       "    .dataframe tbody tr th:only-of-type {\n",
       "        vertical-align: middle;\n",
       "    }\n",
       "\n",
       "    .dataframe tbody tr th {\n",
       "        vertical-align: top;\n",
       "    }\n",
       "\n",
       "    .dataframe thead th {\n",
       "        text-align: right;\n",
       "    }\n",
       "</style>\n",
       "<table border=\"1\" class=\"dataframe\">\n",
       "  <thead>\n",
       "    <tr style=\"text-align: right;\">\n",
       "      <th></th>\n",
       "      <th>Sentiment_Polarity</th>\n",
       "      <th>Sentiment_Subjectivity</th>\n",
       "    </tr>\n",
       "  </thead>\n",
       "  <tbody>\n",
       "    <tr>\n",
       "      <td>count</td>\n",
       "      <td>37427.000000</td>\n",
       "      <td>37427.000000</td>\n",
       "    </tr>\n",
       "    <tr>\n",
       "      <td>mean</td>\n",
       "      <td>0.182171</td>\n",
       "      <td>0.492770</td>\n",
       "    </tr>\n",
       "    <tr>\n",
       "      <td>std</td>\n",
       "      <td>0.351318</td>\n",
       "      <td>0.259904</td>\n",
       "    </tr>\n",
       "    <tr>\n",
       "      <td>min</td>\n",
       "      <td>-1.000000</td>\n",
       "      <td>0.000000</td>\n",
       "    </tr>\n",
       "    <tr>\n",
       "      <td>25%</td>\n",
       "      <td>0.000000</td>\n",
       "      <td>0.357143</td>\n",
       "    </tr>\n",
       "    <tr>\n",
       "      <td>50%</td>\n",
       "      <td>0.150000</td>\n",
       "      <td>0.514286</td>\n",
       "    </tr>\n",
       "    <tr>\n",
       "      <td>75%</td>\n",
       "      <td>0.400000</td>\n",
       "      <td>0.650000</td>\n",
       "    </tr>\n",
       "    <tr>\n",
       "      <td>max</td>\n",
       "      <td>1.000000</td>\n",
       "      <td>1.000000</td>\n",
       "    </tr>\n",
       "  </tbody>\n",
       "</table>\n",
       "</div>"
      ],
      "text/plain": [
       "       Sentiment_Polarity  Sentiment_Subjectivity\n",
       "count        37427.000000            37427.000000\n",
       "mean             0.182171                0.492770\n",
       "std              0.351318                0.259904\n",
       "min             -1.000000                0.000000\n",
       "25%              0.000000                0.357143\n",
       "50%              0.150000                0.514286\n",
       "75%              0.400000                0.650000\n",
       "max              1.000000                1.000000"
      ]
     },
     "execution_count": 20,
     "metadata": {},
     "output_type": "execute_result"
    }
   ],
   "source": [
    "# Descriptive analytics on numerical variables\n",
    "\n",
    "print(user_reviews.columns)\n",
    "user_reviews.describe()\n",
    "\n"
   ]
  },
  {
   "cell_type": "code",
   "execution_count": 21,
   "metadata": {
    "_uuid": "8a55c4a2de74997f4940c5a71063a364641a8f31"
   },
   "outputs": [],
   "source": [
    "\n",
    "# about 75 percentile of the time sentiment polarity is around 0.4, which is positive\n",
    "# subjectivity is between 0 and 1, median subjectivity that was understood was 0.51\n"
   ]
  },
  {
   "cell_type": "code",
   "execution_count": 22,
   "metadata": {
    "_uuid": "ca8cce66dd88717158a43b0fc49ec2d854eb7afd"
   },
   "outputs": [
    {
     "name": "stdout",
     "output_type": "stream",
     "text": [
      "            Rating\n",
      "count  9648.000000\n",
      "mean      3.542651\n",
      "std       1.574478\n",
      "min       0.000000\n",
      "25%       3.600000\n",
      "50%       4.200000\n",
      "75%       4.500000\n",
      "max       5.000000\n",
      "After removing the missing values in ratings\n",
      "            Rating\n",
      "count  8190.000000\n",
      "mean      4.173321\n",
      "std       0.536691\n",
      "min       1.000000\n",
      "25%       4.000000\n",
      "50%       4.300000\n",
      "75%       4.500000\n",
      "max       5.000000\n",
      "excess kurtosis of  distribution : 5.118548660736582\n",
      "skewness of distribution: -1.7440136482756994\n"
     ]
    },
    {
     "data": {
      "image/png": "[encoded data removed]",
      "text/plain": [
       "<Figure size 432x288 with 1 Axes>"
      ]
     },
     "metadata": {
      "needs_background": "light"
     },
     "output_type": "display_data"
    }
   ],
   "source": [
    "# descriptive analysis on play store\n",
    "\n",
    "print(playstore_data.describe())\n",
    "# density plot shape\n",
    "rating = playstore_data[playstore_data['Rating'] != 0 ]\n",
    "print(\"After removing the missing values in ratings\")\n",
    "print(rating.describe())\n",
    "sns.kdeplot(shade=True,data=rating['Rating'])\n",
    "\n",
    "from scipy.stats import kurtosis, skew\n",
    "\n",
    "x = np.random.normal(0, 2, 10000)\n",
    "print( 'excess kurtosis of  distribution : {}'.format( kurtosis(rating['Rating']) ))\n",
    "print( 'skewness of distribution: {}'.format( skew(rating['Rating']) ))\n"
   ]
  },
  {
   "cell_type": "code",
   "execution_count": 23,
   "metadata": {
    "_uuid": "a5d27cd36e91e50c80656bf05b5732091db1be4b"
   },
   "outputs": [],
   "source": [
    "# Rating is  Left skewed(Negatively skewed) and median value is around 4.3 from discriptive analysis and density plot\n",
    "#Kurtosis is around 5.5 that means data is above normal distribution \n",
    "# this a actually a good this a rating is above 4 thats a good indication that most of the apps are liked by users\n"
   ]
  },
  {
   "cell_type": "code",
   "execution_count": 24,
   "metadata": {
    "_uuid": "15d2c2d5a49b043359524b75fab354c3c1a168db"
   },
   "outputs": [],
   "source": [
    "# Univariate analysis"
   ]
  },
  {
   "cell_type": "code",
   "execution_count": 25,
   "metadata": {
    "_uuid": "0c6afd9f9ce59ee89cf3275046d5be3c7a48ff9f"
   },
   "outputs": [],
   "source": [
    "# Bar plot on categorical variable\n",
    "\n",
    "df1 = user_reviews['Sentiment'].value_counts()\n",
    "df1 = df1.reset_index()\n",
    "def bar_plot(x,y,y_label,title,color):\n",
    "    objects = x.values\n",
    "    y_pos = np.arange(len(objects))\n",
    "    plt.figure(figsize=(10,5))\n",
    "    bar = plt.bar(x,y,color=color)\n",
    "    plt.xticks(y_pos, objects)\n",
    "    plt.ylabel(y_label)\n",
    "    plt.title(title)\n",
    "    \n",
    "    return bar\n",
    "    "
   ]
  },
  {
   "cell_type": "code",
   "execution_count": 26,
   "metadata": {
    "_uuid": "6488176a15c248dbb38a1f1d5e9b6c3d7b62d0cb"
   },
   "outputs": [
    {
     "data": {
      "text/plain": [
       "array(['Positive', 'Negative', 'Neutral'], dtype=object)"
      ]
     },
     "execution_count": 26,
     "metadata": {},
     "output_type": "execute_result"
    }
   ],
   "source": [
    "df1['index'].values"
   ]
  },
  {
   "cell_type": "code",
   "execution_count": 27,
   "metadata": {
    "_uuid": "389dba8504622ae5d2a5950628eead612f487522"
   },
   "outputs": [
    {
     "data": {
      "text/plain": [
       "<BarContainer object of 3 artists>"
      ]
     },
     "execution_count": 27,
     "metadata": {},
     "output_type": "execute_result"
    },
    {
     "data": {
      "image/png": "[encoded data removed]",
      "text/plain": [
       "<Figure size 720x360 with 1 Axes>"
      ]
     },
     "metadata": {
      "needs_background": "light"
     },
     "output_type": "display_data"
    }
   ],
   "source": [
    "bar_plot(x = df1['index'],y = df1['Sentiment'],color='g',y_label = 'Sentiment_Freq',title = 'Bar Plot on Sentiment')\n"
   ]
  },
  {
   "cell_type": "code",
   "execution_count": 28,
   "metadata": {
    "_uuid": "6d3eb4bb9c681bb65abb3abf65eb1748c99296e4"
   },
   "outputs": [
    {
     "data": {
      "text/html": [
       "<div>\n",
       "<style scoped>\n",
       "    .dataframe tbody tr th:only-of-type {\n",
       "        vertical-align: middle;\n",
       "    }\n",
       "\n",
       "    .dataframe tbody tr th {\n",
       "        vertical-align: top;\n",
       "    }\n",
       "\n",
       "    .dataframe thead th {\n",
       "        text-align: right;\n",
       "    }\n",
       "</style>\n",
       "<table border=\"1\" class=\"dataframe\">\n",
       "  <thead>\n",
       "    <tr style=\"text-align: right;\">\n",
       "      <th></th>\n",
       "      <th>App</th>\n",
       "      <th>Category</th>\n",
       "      <th>Rating</th>\n",
       "      <th>Reviews</th>\n",
       "      <th>Size</th>\n",
       "      <th>Installs</th>\n",
       "      <th>Type</th>\n",
       "      <th>Price</th>\n",
       "      <th>Content Rating</th>\n",
       "      <th>Genres</th>\n",
       "      <th>Last Updated</th>\n",
       "      <th>Current Ver</th>\n",
       "      <th>Android Ver</th>\n",
       "    </tr>\n",
       "  </thead>\n",
       "  <tbody>\n",
       "    <tr>\n",
       "      <td>0</td>\n",
       "      <td>Photo Editor &amp; Candy Camera &amp; Grid &amp; ScrapBook</td>\n",
       "      <td>ART_AND_DESIGN</td>\n",
       "      <td>4.1</td>\n",
       "      <td>159</td>\n",
       "      <td>19M</td>\n",
       "      <td>10,000+</td>\n",
       "      <td>Free</td>\n",
       "      <td>0</td>\n",
       "      <td>Everyone</td>\n",
       "      <td>Art &amp; Design</td>\n",
       "      <td>January 7, 2018</td>\n",
       "      <td>1.0.0</td>\n",
       "      <td>4.0.3 and up</td>\n",
       "    </tr>\n",
       "    <tr>\n",
       "      <td>1</td>\n",
       "      <td>Coloring book moana</td>\n",
       "      <td>ART_AND_DESIGN</td>\n",
       "      <td>3.9</td>\n",
       "      <td>967</td>\n",
       "      <td>14M</td>\n",
       "      <td>500,000+</td>\n",
       "      <td>Free</td>\n",
       "      <td>0</td>\n",
       "      <td>Everyone</td>\n",
       "      <td>Art &amp; Design;Pretend Play</td>\n",
       "      <td>January 15, 2018</td>\n",
       "      <td>2.0.0</td>\n",
       "      <td>4.0.3 and up</td>\n",
       "    </tr>\n",
       "  </tbody>\n",
       "</table>\n",
       "</div>"
      ],
      "text/plain": [
       "                                              App        Category  Rating  \\\n",
       "0  Photo Editor & Candy Camera & Grid & ScrapBook  ART_AND_DESIGN     4.1   \n",
       "1                             Coloring book moana  ART_AND_DESIGN     3.9   \n",
       "\n",
       "  Reviews Size  Installs  Type Price Content Rating  \\\n",
       "0     159  19M   10,000+  Free     0       Everyone   \n",
       "1     967  14M  500,000+  Free     0       Everyone   \n",
       "\n",
       "                      Genres      Last Updated Current Ver   Android Ver  \n",
       "0               Art & Design   January 7, 2018       1.0.0  4.0.3 and up  \n",
       "1  Art & Design;Pretend Play  January 15, 2018       2.0.0  4.0.3 and up  "
      ]
     },
     "execution_count": 28,
     "metadata": {},
     "output_type": "execute_result"
    }
   ],
   "source": [
    "playstore_data.head(2)"
   ]
  },
  {
   "cell_type": "code",
   "execution_count": 29,
   "metadata": {
    "_uuid": "ea11f541fbe00bacf2e566479ed7ba9fb880c5bf"
   },
   "outputs": [],
   "source": [
    "# visualize the following\n",
    "# 1. how many apps are free vs paid\n",
    "# 2. how many genres are there\n",
    "# 3. represent installs\n",
    "# 4. represent Content Rating\n",
    "\n",
    "\n",
    "\n"
   ]
  },
  {
   "cell_type": "code",
   "execution_count": 30,
   "metadata": {
    "_uuid": "d3c9793438c319f0bf110f6a25a74a3b090c7ca9"
   },
   "outputs": [
    {
     "data": {
      "text/plain": [
       "Index(['App', 'Category', 'Rating', 'Reviews', 'Size', 'Installs', 'Type',\n",
       "       'Price', 'Content Rating', 'Genres', 'Last Updated', 'Current Ver',\n",
       "       'Android Ver'],\n",
       "      dtype='object')"
      ]
     },
     "execution_count": 30,
     "metadata": {},
     "output_type": "execute_result"
    }
   ],
   "source": [
    "playstore_data.columns"
   ]
  },
  {
   "cell_type": "code",
   "execution_count": 31,
   "metadata": {
    "_uuid": "b1b9d3a6362d75267608d5fd5d73a47e7609eaff"
   },
   "outputs": [],
   "source": [
    "list_1 = ['Category', 'Installs', 'Type',\n",
    "        'Content Rating']"
   ]
  },
  {
   "cell_type": "code",
   "execution_count": 32,
   "metadata": {
    "_uuid": "344d0a78c3c450636948be2851b50d6e0e0f6aed"
   },
   "outputs": [],
   "source": [
    "def bar_plot(x,y,y_label,x_label,title,color,ax):\n",
    "    # plt.figure(figsize=(10,5))\n",
    "    bar = sns.barplot(x = x,y=y,ax=ax,orient='h')\n",
    "    plt.ylabel(y_label)\n",
    "    plt.xlabel(x_label)\n",
    "    plt.title(title)\n",
    "    for i, v in enumerate(x.values):\n",
    "        ax.text(v + 3, i + .25, str(v), color='black', fontweight='bold')\n",
    "    return bar"
   ]
  },
  {
   "cell_type": "code",
   "execution_count": 33,
   "metadata": {
    "_uuid": "b3d2d6a1a983a1e3c32e71a1095f46eac6ee21b4"
   },
   "outputs": [
    {
     "data": {
      "image/png": "[encoded data removed]",
      "text/plain": [
       "<Figure size 1008x1296 with 4 Axes>"
      ]
     },
     "metadata": {
      "needs_background": "light"
     },
     "output_type": "display_data"
    }
   ],
   "source": [
    "fig = plt.figure(figsize=(14,18))\n",
    "fig.subplots_adjust(hspace=0.4, wspace=0.4)\n",
    "i = 1\n",
    "for names in list_1:\n",
    "    ax1 = fig.add_subplot(2, 2, i)\n",
    "    df2 = playstore_data[names].value_counts()\n",
    "    df2 = df2.reset_index()\n",
    "    bar_plot(x = df2[names],y = df2['index'],y_label = 'Freq',title = 'Bar Chart On {}'.format(names),color='red',ax=ax1,x_label=names)\n",
    "    i += 1"
   ]
  },
  {
   "cell_type": "code",
   "execution_count": 34,
   "metadata": {
    "_uuid": "ae6b48ee45d23a93f67b24a584810619d3fa2dc2"
   },
   "outputs": [],
   "source": [
    "# from the above viz we can see that free apps are more then paid apps in this dataset\n",
    "# from installs we find that there are 20 apps which have like 1 billion downloads\n",
    "# 100 Million installs are around for 188 apps and majority of installs are in 1 million and above 10 million installs\n"
   ]
  },
  {
   "cell_type": "code",
   "execution_count": 35,
   "metadata": {
    "_uuid": "d9e84a6638bd75a3d20919811d0ade84185cbdd4"
   },
   "outputs": [],
   "source": [
    "list_2 = ['Genres']"
   ]
  },
  {
   "cell_type": "code",
   "execution_count": 36,
   "metadata": {
    "_uuid": "9cea01333b9b0f974a01afdd87c21401b9514b15"
   },
   "outputs": [
    {
     "data": {
      "text/plain": [
       "<matplotlib.axes._subplots.AxesSubplot at 0x7fe743207f98>"
      ]
     },
     "execution_count": 36,
     "metadata": {},
     "output_type": "execute_result"
    },
    {
     "data": {
      "image/png": "[encoded data removed]",
      "text/plain": [
       "<Figure size 360x576 with 1 Axes>"
      ]
     },
     "metadata": {
      "needs_background": "light"
     },
     "output_type": "display_data"
    }
   ],
   "source": [
    "def bar_plot(x,y,y_label,x_label,title,color,ax=None):\n",
    "    plt.figure(figsize=(5,8))\n",
    "    bar = sns.barplot(x = x,y=y,orient='h')\n",
    "    plt.ylabel(y_label)\n",
    "    plt.xlabel(x_label)\n",
    "    plt.title(title)\n",
    "    for i, v in enumerate(x.values):\n",
    "        bar.text(v + 3, i + .25, str(v), color='black', fontweight='bold')\n",
    "    return bar\n",
    "df2 = playstore_data['Genres'].value_counts()\n",
    "df2 = df2.reset_index()\n",
    "df2 = df2[df2['Genres'] > 100]\n",
    "bar_plot(x = df2['Genres'],y = df2['index'],y_label = 'Freq',title = 'Bar Chart On Gerner',color='red',x_label='Gerner')\n",
    "   "
   ]
  },
  {
   "cell_type": "code",
   "execution_count": 37,
   "metadata": {
    "_uuid": "baecd1ce9139de23dff5e21a16e11c66ea9ab563"
   },
   "outputs": [],
   "source": [
    "# highest apps are made on tools, entertainment and education"
   ]
  },
  {
   "cell_type": "code",
   "execution_count": 38,
   "metadata": {
    "_uuid": "d69ab3282137b3dfe340855dfbe13220c780a9c5"
   },
   "outputs": [
    {
     "data": {
      "text/plain": [
       "' Analysis on Apps most popular apps in terms of installs\\n% of free and paid apps\\n10 rated apps with installs of 100 million\\nupdate year wise\\nAvg app size by genre'"
      ]
     },
     "execution_count": 38,
     "metadata": {},
     "output_type": "execute_result"
    }
   ],
   "source": [
    "\"\"\" Analysis on Apps most popular apps in terms of installs\n",
    "% of free and paid apps\n",
    "10 rated apps with installs of 100 million\n",
    "update year wise\n",
    "Avg app size by genre\"\"\"\n"
   ]
  },
  {
   "cell_type": "code",
   "execution_count": 39,
   "metadata": {
    "_uuid": "4604035f8d2fcc94c5ce6c4120e7ceaff67dad74"
   },
   "outputs": [
    {
     "data": {
      "text/plain": [
       "152                            Google Play Books\n",
       "335     Messenger – Text and Video Chat for Free\n",
       "336                           WhatsApp Messenger\n",
       "338                 Google Chrome: Fast & Secure\n",
       "340                                        Gmail\n",
       "341                                     Hangouts\n",
       "391                Skype - free IM & video calls\n",
       "865                            Google Play Games\n",
       "1654                              Subway Surfers\n",
       "2544                                    Facebook\n",
       "2545                                   Instagram\n",
       "2554                                     Google+\n",
       "2808                               Google Photos\n",
       "3117                   Maps - Navigate & Explore\n",
       "3127                          Google Street View\n",
       "3234                                      Google\n",
       "3454                                Google Drive\n",
       "3665                                     YouTube\n",
       "3687                     Google Play Movies & TV\n",
       "3736                                 Google News\n",
       "Name: App, dtype: object"
      ]
     },
     "execution_count": 39,
     "metadata": {},
     "output_type": "execute_result"
    }
   ],
   "source": [
    "# Apps with 1 billion downloads\n",
    "playstore_data[playstore_data['Installs'] == '1,000,000,000+']['App']"
   ]
  },
  {
   "cell_type": "code",
   "execution_count": null,
   "metadata": {
    "_uuid": "d6a41ae04a9c521afebc25a314085ee3ab0efe35"
   },
   "outputs": [],
   "source": []
  },
  {
   "cell_type": "code",
   "execution_count": 40,
   "metadata": {
    "_uuid": "afbccfddaa97d52c7f0084af0ee1f1b4e3c7fd2c"
   },
   "outputs": [],
   "source": [
    "genres=  list(df2['index'][1:10])"
   ]
  },
  {
   "cell_type": "code",
   "execution_count": 41,
   "metadata": {
    "_uuid": "4fcc70f9db099f83c98cd56d0b13c30b6467c790"
   },
   "outputs": [],
   "source": [
    "d = pd.DatetimeIndex(playstore_data['Last Updated'])\n",
    "playstore_data['year'] = d.year\n",
    "playstore_data['month'] = d.month"
   ]
  },
  {
   "cell_type": "code",
   "execution_count": 42,
   "metadata": {
    "_uuid": "aac56f3aa837388300b3c9ae81085525a5922311"
   },
   "outputs": [
    {
     "name": "stdout",
     "output_type": "stream",
     "text": [
      "\n",
      "Printing 10 Apps with 100 million installs and Rating >= 4.5 and Year = 2018 in Entertainment\n",
      "--------------------------------------------------\n",
      "876                     ivi - movies and TV shows in HD\n",
      "882    🔥 Football Wallpapers 4K | Full HD Backgrounds 😍\n",
      "883            Movies by Flixster, with Rotten Tomatoes\n",
      "889      Twitch: Livestream Multiplayer Games & Esports\n",
      "899                   Fandango Movies - Times + Tickets\n",
      "911                          Investigation Discovery GO\n",
      "941                                             CW Seed\n",
      "945                                                 WWE\n",
      "991                      ColorFul - Adult Coloring Book\n",
      "994                         Hamilton — The Official App\n",
      "Name: App, dtype: object\n",
      "\n",
      "Printing 10 Apps with 100 million installs and Rating >= 4.5 and Year = 2018 in Education\n",
      "--------------------------------------------------\n",
      "700                                TED\n",
      "702                       Khan Academy\n",
      "703         Learn English with Wlingua\n",
      "707               English Grammar Test\n",
      "708                      Speed Reading\n",
      "709              English for beginners\n",
      "710             Flame - درب عقلك يوميا\n",
      "718                        Math Tricks\n",
      "720           Learn English Words Free\n",
      "731    English words application mikan\n",
      "Name: App, dtype: object\n",
      "\n",
      "Printing 10 Apps with 100 million installs and Rating >= 4.5 and Year = 2018 in Business\n",
      "--------------------------------------------------\n",
      "196                           Job Search by ZipRecruiter\n",
      "197    Curriculum vitae App CV Builder Free Resume Maker\n",
      "203                         My Space - Employment Center\n",
      "206                                         Call Blocker\n",
      "208                           Square Point of Sale - POS\n",
      "216        IndiaMART: Search Products, Buy, Sell & Trade\n",
      "221                                        Myanmar 2D/3D\n",
      "224                       ATI Cargoes and Transportation\n",
      "232                         Fast Scanner : Free PDF Scan\n",
      "234        TurboScan: scan documents and receipts in PDF\n",
      "Name: App, dtype: object\n",
      "\n",
      "Printing 10 Apps with 100 million installs and Rating >= 4.5 and Year = 2018 in Medical\n",
      "--------------------------------------------------\n",
      "2245                                           Pedi STAT\n",
      "2250             Medical ID - In Case of Emergency (ICE)\n",
      "2251    Human Anatomy Atlas 2018: Complete 3D Human Body\n",
      "2253                           Vargo Anesthesia Mega App\n",
      "2254                                     EMT Review Plus\n",
      "2259                             Diabetes & Diet Tracker\n",
      "2262            Super Hearing Secret Voices Recorder PRO\n",
      "2274                Migraine, Headache Diary HeadApp Pro\n",
      "2282                                      Breathing Zone\n",
      "2293                               Acupuncture Assistant\n",
      "Name: App, dtype: object\n",
      "\n",
      "Printing 10 Apps with 100 million installs and Rating >= 4.5 and Year = 2018 in Productivity\n",
      "--------------------------------------------------\n",
      "3450                                       Microsoft Word\n",
      "3451    All-In-One Toolbox: Cleaner, Booster, App Manager\n",
      "3459                                      Microsoft Excel\n",
      "3461    Power Booster - Junk Cleaner & CPU Cooler & Boost\n",
      "3464                          Calculator - unit converter\n",
      "3469                        ES File Explorer File Manager\n",
      "3474                                      ASUS Quick Memo\n",
      "3481                                     Content Transfer\n",
      "3482      Evernote – Organizer, Planner for Notes & Memos\n",
      "3486                                 Microsoft PowerPoint\n",
      "Name: App, dtype: object\n",
      "\n",
      "Printing 10 Apps with 100 million installs and Rating >= 4.5 and Year = 2018 in Personalization\n",
      "--------------------------------------------------\n",
      "3352                                    Nova Launcher\n",
      "3354                    ZEDGE™ Ringtones & Wallpapers\n",
      "3355                   XOS - Launcher,Theme,Wallpaper\n",
      "3356                       3D Live Neon Weed Launcher\n",
      "3357                                    Evie Launcher\n",
      "3359                                         Launcher\n",
      "3360    CM Launcher 3D - Theme, Wallpapers, Efficient\n",
      "3361           4K Wallpapers and Ultra HD Backgrounds\n",
      "3365                                   ZenUI Launcher\n",
      "3366            Color Call - Caller Screen, LED Flash\n",
      "Name: App, dtype: object\n",
      "\n",
      "Printing 10 Apps with 100 million installs and Rating >= 4.5 and Year = 2018 in Lifestyle\n",
      "--------------------------------------------------\n",
      "1566    Black Wallpaper, AMOLED, Dark Background: Darkify\n",
      "1570    Horoscopes – Daily Zodiac Horoscope and Astrology\n",
      "1572                                      ZenUI Safeguard\n",
      "1573                          Live 4D Results ! (MY & SG)\n",
      "1574                                      Diary with lock\n",
      "1582                     Tattoodo - Find your next tattoo\n",
      "1584                                             Samsung+\n",
      "1587    Pronunciation and know the name of the caller ...\n",
      "1588         Super Slime Simulator - Satisfying Slime App\n",
      "1592               သိင်္ Astrology - Min Thein Kha BayDin\n",
      "Name: App, dtype: object\n",
      "\n",
      "Printing 10 Apps with 100 million installs and Rating >= 4.5 and Year = 2018 in Finance\n",
      "--------------------------------------------------\n",
      "1060                                        Nubank\n",
      "1062                                           IKO\n",
      "1074                                  Credit Karma\n",
      "1075                                BZWBK24 mobile\n",
      "1077                           Capital One® Mobile\n",
      "1080                                     Post Bank\n",
      "1081                                         İşCep\n",
      "1088                                Bank of Brazil\n",
      "1090                Robinhood - Investing, No Fees\n",
      "1092    Even - organize your money, get paid early\n",
      "Name: App, dtype: object\n",
      "\n",
      "Printing 10 Apps with 100 million installs and Rating >= 4.5 and Year = 2018 in Sports\n",
      "--------------------------------------------------\n",
      "1675                          8 Ball Pool\n",
      "1709                          Score! Hero\n",
      "1739             Dream League Soccer 2018\n",
      "1793    Mini Golf King - Multiplayer Game\n",
      "1811         MLB TAP SPORTS BASEBALL 2018\n",
      "2965          Onefootball - Soccer Scores\n",
      "2966          Cristiano Ronaldo Wallpaper\n",
      "2970                 Football Live Scores\n",
      "2971            Pro 2018 - Series A and B\n",
      "2972         BeSoccer - Soccer Live Score\n",
      "Name: App, dtype: object\n"
     ]
    }
   ],
   "source": [
    "for i in genres:\n",
    "    \n",
    "    play = playstore_data[(playstore_data['Installs'] != '1,000,000,000+') & (playstore_data['Genres'] == i) & (playstore_data['Rating'] >= 4.5) & (playstore_data['year'] == 2018)]['App']\n",
    "    print('')\n",
    "    print('Printing 10 Apps with 100 million installs and Rating >= 4.5 and Year = 2018 in {}'.format(i))\n",
    "    print('--------------------------------------------------')\n",
    "    print(play[0:10])"
   ]
  },
  {
   "cell_type": "code",
   "execution_count": 43,
   "metadata": {
    "_uuid": "08517ac7cd444059882c9c9f1c286184a354e3c8"
   },
   "outputs": [
    {
     "data": {
      "image/png": "[encoded data removed]",
      "text/plain": [
       "<Figure size 432x288 with 1 Axes>"
      ]
     },
     "metadata": {},
     "output_type": "display_data"
    }
   ],
   "source": [
    "\n",
    "# % free vs paid apps\n",
    "\n",
    "size=[8895,753]\n",
    "sentiment = ['Free', 'Paid']\n",
    "colors = ['g', 'pink']\n",
    "plt.pie(size, labels=sentiment, colors=colors, startangle=180, autopct='%.1f%%')\n",
    "plt.title('% Free vs Paid Apps')\n",
    "plt.show()\n"
   ]
  },
  {
   "cell_type": "code",
   "execution_count": 44,
   "metadata": {
    "_uuid": "2404f214276f288b2202c7a00065cd2dfe8de700"
   },
   "outputs": [
    {
     "name": "stderr",
     "output_type": "stream",
     "text": [
      "/opt/conda/lib/python3.6/site-packages/ipykernel_launcher.py:9: SettingWithCopyWarning: \n",
      "A value is trying to be set on a copy of a slice from a DataFrame.\n",
      "Try using .loc[row_indexer,col_indexer] = value instead\n",
      "\n",
      "See the caveats in the documentation: http://pandas.pydata.org/pandas-docs/stable/user_guide/indexing.html#returning-a-view-versus-a-copy\n",
      "  if __name__ == '__main__':\n",
      "/opt/conda/lib/python3.6/site-packages/ipykernel_launcher.py:10: SettingWithCopyWarning: \n",
      "A value is trying to be set on a copy of a slice from a DataFrame.\n",
      "Try using .loc[row_indexer,col_indexer] = value instead\n",
      "\n",
      "See the caveats in the documentation: http://pandas.pydata.org/pandas-docs/stable/user_guide/indexing.html#returning-a-view-versus-a-copy\n",
      "  # Remove the CWD from sys.path while we load stuff.\n",
      "/opt/conda/lib/python3.6/site-packages/ipykernel_launcher.py:11: SettingWithCopyWarning: \n",
      "A value is trying to be set on a copy of a slice from a DataFrame.\n",
      "Try using .loc[row_indexer,col_indexer] = value instead\n",
      "\n",
      "See the caveats in the documentation: http://pandas.pydata.org/pandas-docs/stable/user_guide/indexing.html#returning-a-view-versus-a-copy\n",
      "  # This is added back by InteractiveShellApp.init_path()\n",
      "/opt/conda/lib/python3.6/site-packages/ipykernel_launcher.py:12: SettingWithCopyWarning: \n",
      "A value is trying to be set on a copy of a slice from a DataFrame.\n",
      "Try using .loc[row_indexer,col_indexer] = value instead\n",
      "\n",
      "See the caveats in the documentation: http://pandas.pydata.org/pandas-docs/stable/user_guide/indexing.html#returning-a-view-versus-a-copy\n",
      "  if sys.path[0] == '':\n"
     ]
    }
   ],
   "source": [
    "# avg app size\n",
    "size = playstore_data[playstore_data['Size'] != 'Varies with device']\n",
    "size_m = []\n",
    "size_n = []\n",
    "for i in size['Size']:\n",
    "    size_m.append(i[-1])\n",
    "    size_n.append(float(i[0:-1]))\n",
    "    \n",
    "size['size_m'] = size_m\n",
    "size['size_n'] = size_n\n",
    "size['size_m'] = size['size_m'].replace('k',1000)\n",
    "size['size_m'] = size['size_m'].replace('M',1000000)\n",
    "\n"
   ]
  },
  {
   "cell_type": "code",
   "execution_count": 45,
   "metadata": {
    "_uuid": "15fdab751aaa6bb430575c3336d3f9c01999f06a"
   },
   "outputs": [
    {
     "name": "stderr",
     "output_type": "stream",
     "text": [
      "/opt/conda/lib/python3.6/site-packages/ipykernel_launcher.py:1: SettingWithCopyWarning: \n",
      "A value is trying to be set on a copy of a slice from a DataFrame.\n",
      "Try using .loc[row_indexer,col_indexer] = value instead\n",
      "\n",
      "See the caveats in the documentation: http://pandas.pydata.org/pandas-docs/stable/user_guide/indexing.html#returning-a-view-versus-a-copy\n",
      "  \"\"\"Entry point for launching an IPython kernel.\n"
     ]
    }
   ],
   "source": [
    "size['bites'] = size['size_n'] * size['size_m']"
   ]
  },
  {
   "cell_type": "code",
   "execution_count": 46,
   "metadata": {
    "_uuid": "ff3925bd31c2ed84979e9ec83e4f5cfe66ceeeb1"
   },
   "outputs": [
    {
     "data": {
      "text/html": [
       "<div>\n",
       "<style scoped>\n",
       "    .dataframe tbody tr th:only-of-type {\n",
       "        vertical-align: middle;\n",
       "    }\n",
       "\n",
       "    .dataframe tbody tr th {\n",
       "        vertical-align: top;\n",
       "    }\n",
       "\n",
       "    .dataframe thead th {\n",
       "        text-align: right;\n",
       "    }\n",
       "</style>\n",
       "<table border=\"1\" class=\"dataframe\">\n",
       "  <thead>\n",
       "    <tr style=\"text-align: right;\">\n",
       "      <th></th>\n",
       "      <th>min</th>\n",
       "      <th>max</th>\n",
       "    </tr>\n",
       "    <tr>\n",
       "      <th>Category</th>\n",
       "      <th></th>\n",
       "      <th></th>\n",
       "    </tr>\n",
       "  </thead>\n",
       "  <tbody>\n",
       "    <tr>\n",
       "      <td>ART_AND_DESIGN</td>\n",
       "      <td>1200000.0</td>\n",
       "      <td>39000000.0</td>\n",
       "    </tr>\n",
       "    <tr>\n",
       "      <td>AUTO_AND_VEHICLES</td>\n",
       "      <td>201000.0</td>\n",
       "      <td>97000000.0</td>\n",
       "    </tr>\n",
       "    <tr>\n",
       "      <td>BEAUTY</td>\n",
       "      <td>2200000.0</td>\n",
       "      <td>57000000.0</td>\n",
       "    </tr>\n",
       "    <tr>\n",
       "      <td>BOOKS_AND_REFERENCE</td>\n",
       "      <td>93000.0</td>\n",
       "      <td>87000000.0</td>\n",
       "    </tr>\n",
       "    <tr>\n",
       "      <td>BUSINESS</td>\n",
       "      <td>23000.0</td>\n",
       "      <td>98000000.0</td>\n",
       "    </tr>\n",
       "    <tr>\n",
       "      <td>COMICS</td>\n",
       "      <td>444000.0</td>\n",
       "      <td>40000000.0</td>\n",
       "    </tr>\n",
       "    <tr>\n",
       "      <td>COMMUNICATION</td>\n",
       "      <td>17000.0</td>\n",
       "      <td>66000000.0</td>\n",
       "    </tr>\n",
       "    <tr>\n",
       "      <td>DATING</td>\n",
       "      <td>18000.0</td>\n",
       "      <td>77000000.0</td>\n",
       "    </tr>\n",
       "    <tr>\n",
       "      <td>EDUCATION</td>\n",
       "      <td>526000.0</td>\n",
       "      <td>97000000.0</td>\n",
       "    </tr>\n",
       "    <tr>\n",
       "      <td>ENTERTAINMENT</td>\n",
       "      <td>3300000.0</td>\n",
       "      <td>78000000.0</td>\n",
       "    </tr>\n",
       "  </tbody>\n",
       "</table>\n",
       "</div>"
      ],
      "text/plain": [
       "                           min         max\n",
       "Category                                  \n",
       "ART_AND_DESIGN       1200000.0  39000000.0\n",
       "AUTO_AND_VEHICLES     201000.0  97000000.0\n",
       "BEAUTY               2200000.0  57000000.0\n",
       "BOOKS_AND_REFERENCE    93000.0  87000000.0\n",
       "BUSINESS               23000.0  98000000.0\n",
       "COMICS                444000.0  40000000.0\n",
       "COMMUNICATION          17000.0  66000000.0\n",
       "DATING                 18000.0  77000000.0\n",
       "EDUCATION             526000.0  97000000.0\n",
       "ENTERTAINMENT        3300000.0  78000000.0"
      ]
     },
     "execution_count": 46,
     "metadata": {},
     "output_type": "execute_result"
    }
   ],
   "source": [
    "# avg app size\n",
    "\n",
    "grouped = size.groupby('Category').agg({'bites': [min, max]})\n",
    "grouped.columns = grouped.columns.droplevel(level=0)\n",
    "grouped.rename(columns={\"min\": \"min_size\", \"max\": \"max_size\"})\n",
    "grouped.head(10)\n"
   ]
  },
  {
   "cell_type": "code",
   "execution_count": 47,
   "metadata": {
    "_uuid": "ce21934ea9dc18dba703c1fcbcc12dbc21272aa3"
   },
   "outputs": [
    {
     "data": {
      "text/plain": [
       "Category\n",
       "ART_AND_DESIGN         1.252951e+07\n",
       "AUTO_AND_VEHICLES      2.003715e+07\n",
       "BEAUTY                 1.379574e+07\n",
       "BOOKS_AND_REFERENCE    1.319935e+07\n",
       "BUSINESS               1.386719e+07\n",
       "COMICS                 1.379496e+07\n",
       "COMMUNICATION          1.130743e+07\n",
       "DATING                 1.566112e+07\n",
       "EDUCATION              1.905710e+07\n",
       "ENTERTAINMENT          2.304375e+07\n",
       "Name: bites, dtype: float64"
      ]
     },
     "execution_count": 47,
     "metadata": {},
     "output_type": "execute_result"
    }
   ],
   "source": [
    "size.groupby('Category')['bites'].mean().head(10)\n"
   ]
  },
  {
   "cell_type": "code",
   "execution_count": 48,
   "metadata": {
    "_uuid": "b59e709cc8fc1641b4dbb77bfb4989afc37dcb58"
   },
   "outputs": [
    {
     "name": "stdout",
     "output_type": "stream",
     "text": [
      "# of apps not been updated since 2016 801\n",
      "# of apps not been updated since 2015 352\n",
      "# of apps not been updated since 2014 149\n"
     ]
    }
   ],
   "source": [
    "# app update\n",
    "\n",
    "print('# of apps not been updated since 2016 {}'.format(len(playstore_data[playstore_data['year'] < 2016])))\n",
    "print('# of apps not been updated since 2015 {}'.format(len(playstore_data[playstore_data['year'] < 2015])))\n",
    "print('# of apps not been updated since 2014 {}'.format(len(playstore_data[playstore_data['year'] < 2014])))                                                       \n",
    "                                                        "
   ]
  },
  {
   "cell_type": "code",
   "execution_count": 49,
   "metadata": {
    "_uuid": "eee2cbcbb411b4ded763dc9e00227b584a1ebe20"
   },
   "outputs": [],
   "source": [
    "# there are around 801 apps that are not been updated since 2 years,these apps might not be in service"
   ]
  },
  {
   "cell_type": "code",
   "execution_count": 50,
   "metadata": {
    "_uuid": "80a1dd190d011566d6a6aae4924d84e8d1cae207"
   },
   "outputs": [],
   "source": [
    "# analysis on paid apps\n",
    "\n",
    "paided = playstore_data[playstore_data['Type'] == 'Paid']"
   ]
  },
  {
   "cell_type": "code",
   "execution_count": 51,
   "metadata": {
    "_uuid": "f959b2d2d27cf2eb89d4dac3551eb3a1324827ca"
   },
   "outputs": [
    {
     "data": {
      "text/plain": [
       "Text(0.5, 1.0, '% Distribution of Paided Apps Categories')"
      ]
     },
     "execution_count": 51,
     "metadata": {},
     "output_type": "execute_result"
    },
    {
     "data": {
      "image/png": "[encoded data removed]",
      "text/plain": [
       "<Figure size 720x360 with 1 Axes>"
      ]
     },
     "metadata": {},
     "output_type": "display_data"
    }
   ],
   "source": [
    "df3 = paided['Category'].value_counts()\n",
    "df3 = df3.reset_index()\n",
    "df3 = df3[:10]\n",
    "plt.figure(figsize=(10,5))\n",
    "plt.pie(x = list(df3['Category']), labels=list(df3['index']), autopct='%1.0f%%', pctdistance=0.8, labeldistance=1.2)\n",
    "plt.title('% Distribution of Paided Apps Categories')"
   ]
  },
  {
   "cell_type": "code",
   "execution_count": 52,
   "metadata": {
    "_uuid": "363325d2a2ca9210cb8361c669a49dddb6ef11b5"
   },
   "outputs": [],
   "source": [
    "# Medial apps have  13 % of share, further analysis is required understand medical apps \n"
   ]
  },
  {
   "cell_type": "code",
   "execution_count": 53,
   "metadata": {
    "_uuid": "ee0ea37f3b8976355912b6c93c836dd21fc34636"
   },
   "outputs": [
    {
     "data": {
      "text/plain": [
       "235          Tiny Scanner Pro: PDF Doc Scan\n",
       "1341         Relax Melodies P: Sleep Sounds\n",
       "1833                     The Room: Old Sins\n",
       "3658                       Weather Live Pro\n",
       "4556                          Day R Premium\n",
       "6680                            QR Code Pro\n",
       "8171                  The House of Da Vinci\n",
       "10531    Kernel Manager for Franco Kernel ✨\n",
       "Name: App, dtype: object"
      ]
     },
     "execution_count": 53,
     "metadata": {},
     "output_type": "execute_result"
    }
   ],
   "source": [
    "# Top rated paid apps with installs 1,000,000+\n",
    "\n",
    "paided[(paided['Rating'] > 4.7) & (paided['Installs'] == '100,000+') ]['App']\n",
    "\n"
   ]
  },
  {
   "cell_type": "code",
   "execution_count": null,
   "metadata": {
    "_uuid": "a474bc82d3d581882a928a5c674bdbc9a034f27c"
   },
   "outputs": [],
   "source": []
  },
  {
   "cell_type": "code",
   "execution_count": null,
   "metadata": {
    "_uuid": "a28e3ccd901a1e6fa9815217f5182153cbeb3f9c"
   },
   "outputs": [],
   "source": []
  },
  {
   "cell_type": "code",
   "execution_count": null,
   "metadata": {
    "_uuid": "623ba50696d26cd183967363fe4334b337f1cbea"
   },
   "outputs": [],
   "source": []
  }
 ],
 "metadata": {
  "kernelspec": {
   "display_name": "Python 3",
   "language": "python",
   "name": "python3"
  },
  "language_info": {
   "codemirror_mode": {
    "name": "ipython",
    "version": 3
   },
   "file_extension": ".py",
   "mimetype": "text/x-python",
   "name": "python",
   "nbconvert_exporter": "python",
   "pygments_lexer": "ipython3",
   "version": "3.7.3"
  }
 },
 "nbformat": 4,
 "nbformat_minor": 1
}
